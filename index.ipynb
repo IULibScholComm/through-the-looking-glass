{
  "cells": [
    {
      "cell_type": "markdown",
      "metadata": {},
      "source": [
        "# Front Matter {.unnumbered}\n",
        "\n",
        "## About\n",
        "\n",
        "The following pages represent the first volume of a book. The main goal was to introduce the evolutionary problem of sexual reproduction, with a focus on competition between sexual and asexual females. But I also incorporated some ideas on genetic polymorphism and phenotypic plasticity with the goal of exploring “variation strategies” more generally. Finally, I tried to weave in some history of the field, along with some philosophy of science. \n",
        "\n",
        "## Acknowledgements\n",
        "\n",
        "I gratefully acknowledge helpful comments from Amrita Bhattacharya, Zoe Dinges, Kara Million, Deanna Soper, Mike Wade, Jukka Jokela, Dorota Paczesniak, Steve Howard, Lynda Delph, Clark Craddock, Robert Vrijenhoek, Jan McKenzie, Mike Winterbourn, Stuart West, Bob Holt, Oren Harman, and especially Maurine Neiman and her lab group at the University of Iowa. Additional comments are welcome by [email](mailto:clively@indiana.edu). \n",
        "\n",
        "Special thanks to Zoe Michelle Dinges (ZMD). Zoe redrew the figures, and she created the beautiful illustrations. \n",
        "\n",
        "Special thanks also to Adam Mazel of Indiana University Libraries for preparing the document for online publication. I am also grateful to Bart Zijlstra and Gabe Harp for permission to use their original photographs.\n",
        "\n",
        "This project was supported by the NSF OPUS program for the synthesis of biological research (DEB-1906465). I am also grateful to the Institute for Advanced Study in Berlin (Wissenschaftskolleg zu Berlin) for my stay as a \"partner\" during 2022-2023. \n",
        "\n",
        "## Copyright and License\n",
        "\n",
        "&copy; 2024 Curtis M. Lively<br />\n",
        "Illustrations &copy; 2024 Zoe Michelle Dinges\n",
        "\n",
        "<a rel=\"license\" href=\"http://creativecommons.org/licenses/by/4.0/\"><img alt=\"Creative Commons License\" style=\"border-width:0\" src=\"https://i.creativecommons.org/l/by/4.0/88x31.png\" /></a><br /><span xmlns:dct=\"http://purl.org/dc/terms/\" property=\"dct:title\">Through the Looking Glass: I. Why Cross-Fertilize?</span> by <a xmlns:cc=\"http://creativecommons.org/ns#\" href=\"https://iulibscholcomm.github.io/through-the-looking-glass/\" property=\"cc:attributionName\" rel=\"cc:attributionURL\">Curtis M. Lively</a> and <a xmlns:cc=\"http://creativecommons.org/ns#\" href=\"https://iulibscholcomm.github.io/through-the-looking-glass/\" property=\"cc:attributionName\" rel=\"cc:attributionURL\">Zoe Michelle Dinges</a> is licensed under a <a rel=\"license\" href=\"http://creativecommons.org/licenses/by/4.0/\">Creative Commons Attribution 4.0 International License</a>.\n",
        "\n",
        "## Publisher\n",
        "![](images/libraries_lockup_WEB_h3.png){alt-text=\"Logo of Indiana University Bloomington Libraries Publishing\" width=\"40%\"}\n",
        "\n",
        "\n",
        "\n",
        "\n",
        "\n",
        "\n",
        "```{html}\n",
        "<p>\n",
        "[Indiana University Bloomington Libraries Publishing](https://libraries.indiana.edu/scholarly-communication)<br />\n",
        "1320 E. Tenth Street<br />\n",
        "Bloomington, IN 47405\n",
        "</p>\n",
        "```\n",
        "\n",
        "\n",
        "\n",
        "\n",
        "\n",
        "\n",
        "## How to Cite\n",
        "\n",
        "Lively, C.M. (2024). [*Through the Looking Glass: I. Why Cross-Fertilize?*](https://doi.org/10.5967/GBD3-KA07) Indiana University Libraries Publishing, Bloomington."
      ],
      "id": "7ce6c670"
    }
  ],
  "metadata": {
    "kernelspec": {
      "display_name": "Python 3",
      "language": "python",
      "name": "python3"
    }
  },
  "nbformat": 4,
  "nbformat_minor": 5
}